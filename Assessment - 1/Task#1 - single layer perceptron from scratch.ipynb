{
 "cells": [
  {
   "cell_type": "markdown",
   "metadata": {},
   "source": [
    "### Vivek Dadhich\n",
    "\n",
    "### 20MAI0077\n",
    "\n",
    "### Repository-link -> https://github.com/vivek20dadhich/CSE6037-Deep-Learning-and-its-Applications-Lab-Assignments\n",
    "\n",
    "### Task 1 -> Implement perceptron on given data without using buitin functions and predict output for test data\n",
    "<br /><br />"
   ]
  },
  {
   "cell_type": "code",
   "execution_count": 54,
   "metadata": {},
   "outputs": [],
   "source": [
    "import numpy as np"
   ]
  },
  {
   "cell_type": "code",
   "execution_count": 55,
   "metadata": {},
   "outputs": [],
   "source": [
    "#     x0  x1  x2\n",
    "x = [[1, 2, 3],                                  \n",
    "     [4, 5, 6],                                 \n",
    "     [7, 8, 9]] \n",
    "\n",
    "# Desired outputs\n",
    "y = [0,                                            \n",
    "     1,                                            \n",
    "     1]"
   ]
  },
  {
   "cell_type": "code",
   "execution_count": 56,
   "metadata": {},
   "outputs": [
    {
     "name": "stdout",
     "output_type": "stream",
     "text": [
      "The weights are:\n",
      "[ 0.5  0.1 -0.3] \n",
      "\n",
      "The sum-of-squared erros are:\n",
      "[0.5, 0.5, 0.5, 1.0, 0.5, 1.0, 0.5, 0.5, 0.0, 0.0, 0.0, 0.0, 0.0, 0.0, 0.0, 0.0, 0.0]\n"
     ]
    }
   ],
   "source": [
    "# Training the Perceptron\n",
    "# x:   feature data \n",
    "# y:   outputs \n",
    "# z:   threshold\n",
    "# eta: learning rate\n",
    "# t:   number of iterations\n",
    "\n",
    "def perceptron_train(x, y, z, eta, t):\n",
    "    \n",
    "    # Initializing parameters for the Perceptron\n",
    "    w = np.zeros(len(x[0]))        # weights \n",
    "    n = 0                          \n",
    "    \n",
    "    # Initializing additional parameters to compute SSE\n",
    "    yhat_vec = np.ones(len(y))     # vector for predictions\n",
    "    errors = np.ones(len(y))       # vector for errors (actual - predictions)\n",
    "    J = []                         # vector for the SSE cost function\n",
    "     \n",
    "        \n",
    "    while n < t:                                  \n",
    "        for i in range(0, len(x)):                 \n",
    "            \n",
    "            # summation step\n",
    "            f = np.dot(x[i], w)                      \n",
    "                        \n",
    "            # activation function\n",
    "            if f > z:                               \n",
    "                yhat = 1.                               \n",
    "            else:                                   \n",
    "                yhat = 0. \n",
    "            yhat_vec[i] = yhat                              \n",
    "        \n",
    "            # updating the weights\n",
    "            for j in range(0, len(w)):             \n",
    "                w[j] = w[j] + eta*(y[i]-yhat)*x[i][j]\n",
    "                \n",
    "            n += 1     \n",
    "            \n",
    "        # computing the sum-of-squared errors\n",
    "        for i in range(0,len(y)):     \n",
    "           errors[i] = (y[i]-yhat_vec[i])**2\n",
    "        J.append(0.5*np.sum(errors))\n",
    "           \n",
    "    # function returns the weight vector, and sum-of-squared errors        \n",
    "    return w, J\n",
    "\n",
    "\n",
    "z = 0.0     # threshold\n",
    "eta = 0.1   # learning rate\n",
    "t = 50      # number of iterations\n",
    "\n",
    "print(\"The weights are:\")\n",
    "print(perceptron_train(x, y, z, eta, t)[0], \"\\n\")\n",
    "\n",
    "print(\"The sum-of-squared erros are:\")\n",
    "print(perceptron_train(x, y, z, eta, t)[1])"
   ]
  },
  {
   "cell_type": "code",
   "execution_count": 57,
   "metadata": {},
   "outputs": [
    {
     "data": {
      "text/plain": [
       "Text(0.5, 1.0, 'Perceptron Convergence')"
      ]
     },
     "execution_count": 57,
     "metadata": {},
     "output_type": "execute_result"
    },
    {
     "data": {
      "image/png": "[encoded data removed]",
      "text/plain": [
       "<Figure size 432x288 with 1 Axes>"
      ]
     },
     "metadata": {
      "needs_background": "light"
     },
     "output_type": "display_data"
    }
   ],
   "source": [
    "J = perceptron_train(x, y, z, eta, t)[1]     # pulling out the sum-of-squared errors from the tuple\n",
    "epoch = np.linspace(1,len(J),len(J))\n",
    "\n",
    "%matplotlib inline  \n",
    "plt.plot(epoch, J)\n",
    "plt.xlabel('Epoch')\n",
    "plt.ylabel('Sum-of-Squared Error')\n",
    "plt.title('Perceptron Convergence')"
   ]
  },
  {
   "cell_type": "code",
   "execution_count": 58,
   "metadata": {},
   "outputs": [
    {
     "name": "stdout",
     "output_type": "stream",
     "text": [
      "The weights are:\n",
      "[ 2.5  0.5 -1.5] \n",
      "\n",
      "The sum-of-squared erros are:\n",
      "[0.5, 0.5, 0.5, 1.0, 0.5, 1.0, 0.5, 0.5, 0.0, 0.0, 0.0, 0.0, 0.0, 0.0, 0.0, 0.0, 0.0]\n"
     ]
    },
    {
     "data": {
      "text/plain": [
       "Text(0.5, 1.0, 'Perceptron Convergence')"
      ]
     },
     "execution_count": 58,
     "metadata": {},
     "output_type": "execute_result"
    },
    {
     "data": {
      "image/png": "[encoded data removed]",
      "text/plain": [
       "<Figure size 432x288 with 1 Axes>"
      ]
     },
     "metadata": {
      "needs_background": "light"
     },
     "output_type": "display_data"
    }
   ],
   "source": [
    "eta = 0.5     # new learning rate\n",
    "z = 0.0\n",
    "\n",
    "print(\"The weights are:\")\n",
    "print(perceptron_train(x, y, z, eta, t)[0], \"\\n\")\n",
    "\n",
    "J = perceptron_train(x, y, z, eta, t)[1]\n",
    "epoch = np.linspace(1,len(J),len(J))\n",
    "print(\"The sum-of-squared erros are:\")\n",
    "print(J)\n",
    "\n",
    "%matplotlib inline\n",
    "plt.plot(epoch, J)\n",
    "plt.xlabel('Epoch')\n",
    "plt.ylabel('Sum-of-Squared Error')\n",
    "plt.title('Perceptron Convergence')"
   ]
  },
  {
   "cell_type": "markdown",
   "metadata": {},
   "source": [
    "As we can see, the perceptron converges after the 8th iteration and SSE becomes 0 after that"
   ]
  },
  {
   "cell_type": "code",
   "execution_count": 59,
   "metadata": {},
   "outputs": [],
   "source": [
    "# Make a prediction with weights\n",
    "def predict(row, weights):\n",
    "    activation = weights[0]\n",
    "    for i in range(len(row)-1):\n",
    "        activation += weights[i + 1] * row[i]\n",
    "    return 1.0 if activation >= 0.0 else 0.0"
   ]
  },
  {
   "cell_type": "code",
   "execution_count": 60,
   "metadata": {},
   "outputs": [
    {
     "name": "stdout",
     "output_type": "stream",
     "text": [
      "Expected=8, Predicted=0\n"
     ]
    }
   ],
   "source": [
    "dataset = [[4,7,8]]\n",
    "weights = [2.5, 0.5, -1.5]\n",
    "for row in dataset:\n",
    "    prediction = predict(row, weights)\n",
    "    print(\"Expected=%d, Predicted=%d\" % (row[-1], prediction))"
   ]
  },
  {
   "cell_type": "code",
   "execution_count": 61,
   "metadata": {},
   "outputs": [],
   "source": [
    "test_set = [[4,7,8]]\n",
    "weights = [0.5, 0.1, -0.3]"
   ]
  },
  {
   "cell_type": "code",
   "execution_count": 62,
   "metadata": {},
   "outputs": [
    {
     "name": "stdout",
     "output_type": "stream",
     "text": [
      "[0.0]\n"
     ]
    }
   ],
   "source": [
    "# Prediction for [4, 7, 8]\n",
    "\n",
    "predictions = list()\n",
    "for row in test_set:\n",
    "    prediction = predict(row, weights)\n",
    "    predictions.append(prediction)\n",
    "print(predictions)   "
   ]
  }
 ],
 "metadata": {
  "kernelspec": {
   "display_name": "Python 3",
   "language": "python",
   "name": "python3"
  },
  "language_info": {
   "codemirror_mode": {
    "name": "ipython",
    "version": 3
   },
   "file_extension": ".py",
   "mimetype": "text/x-python",
   "name": "python",
   "nbconvert_exporter": "python",
   "pygments_lexer": "ipython3",
   "version": "3.8.5"
  }
 },
 "nbformat": 4,
 "nbformat_minor": 4
}
